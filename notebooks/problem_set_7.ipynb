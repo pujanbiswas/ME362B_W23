{
 "cells": [
  {
   "cell_type": "markdown",
   "metadata": {
    "collapsed": true,
    "pycharm": {
     "name": "#%% md\n"
    }
   },
   "source": [
    "# Problem Set #7: Vibrational Relaxation\n",
    "\n",
    "Due March 17, 2021\n",
    "\n",
    "__Background:__\n",
    "\n",
    "Vibrational relaxation influences the thermodynamic state of gases in supersonic and hypersonic flows, and modeling of the vibrational relaxation process affects the design of heat shielding for hypersonic and reentry vehicles. Supersonic compression and expansion rapidly change the translational and rotational energies while the vibrational energy evolves more slowly due to vibrational relaxation. The following two questions investigate the effects of vibrational relaxation in a compression flow behind an oblique shock wave and in an expansion flow through a supersonic nozzle. Applications of oblique shocks include supersonic inlets and bow shock in reentry flows, while applications of supersonic nozzles include ramjet, scramjet, and rocket exhaust to produce thrust and gas dynamic lasers."
   ]
  },
  {
   "cell_type": "markdown",
   "metadata": {
    "pycharm": {
     "name": "#%% md\n"
    }
   },
   "source": [
    "## 1. Compression behind an oblique shock wave\n",
    "\n",
    "[50 pts] Consider the evolution of a supersonic, pure nitrogen (N$_2$) flow over a wedge (Fig. 1). The incoming flow starts with a temperature of 140 K and pressure of 0.01 atm. For context, note that the flow temperature, pressure, and composition correspond to an altitude of 100 km on Titan and that M = 24 and a 24.3° attack angle roughly correspond to the Space Shuttle reentry conditions (actual conditions: M = 10-25 attack angle = 40°).\n",
    "\n",
    "### Figure 1: Illustration of compression through an oblique shock wave.\n",
    "<img src=\"../data/PSet_7_Fig1.JPG\" width=\"600\">\n",
    "\n",
    "### Compressible Flow:\n",
    "\n",
    "__a.__ [5 pts] What is the angle of the oblique shock wave relative to the incoming flow?"
   ]
  },
  {
   "cell_type": "code",
   "execution_count": 0,
   "metadata": {
    "pycharm": {
     "name": "#%%\n"
    }
   },
   "outputs": [],
   "source": []
  },
  {
   "cell_type": "markdown",
   "metadata": {
    "pycharm": {
     "name": "#%% md\n"
    }
   },
   "source": [
    "__b.__ [5 pts] What are the translational/rotational temperature (T$_\\text{tr}$) and pressure immediately behind the oblique shock wave?"
   ]
  },
  {
   "cell_type": "code",
   "execution_count": null,
   "metadata": {
    "pycharm": {
     "name": "#%%\n"
    }
   },
   "outputs": [],
   "source": []
  },
  {
   "cell_type": "markdown",
   "metadata": {
    "pycharm": {
     "name": "#%% md\n"
    }
   },
   "source": [
    "__c.__ [5 pts] What is the gas velocity before and after the oblique shock wave?"
   ]
  },
  {
   "cell_type": "code",
   "execution_count": null,
   "metadata": {
    "pycharm": {
     "name": "#%%\n"
    }
   },
   "outputs": [],
   "source": []
  },
  {
   "cell_type": "markdown",
   "metadata": {
    "pycharm": {
     "name": "#%% md\n"
    }
   },
   "source": [
    "### Vibrational Relaxation\n",
    "\n",
    "__d.__ [5 pts] What is the initial vibrational temperature (T$_\\text{v}$) immediately behind the oblique shock wave?"
   ]
  },
  {
   "cell_type": "code",
   "execution_count": null,
   "metadata": {
    "pycharm": {
     "name": "#%%\n"
    }
   },
   "outputs": [],
   "source": []
  },
  {
   "cell_type": "markdown",
   "metadata": {
    "pycharm": {
     "name": "#%% md\n"
    }
   },
   "source": [
    "__e.__ [5 pts] What is the equilibrium temperature at the completion of the vibrational relaxation process (T$_\\text{v}$ = T$_\\text{tr}$ = T)? For N$_2$, θ$_\\text{V}$ = 3395 K."
   ]
  },
  {
   "cell_type": "code",
   "execution_count": null,
   "metadata": {
    "pycharm": {
     "name": "#%%\n"
    }
   },
   "outputs": [],
   "source": []
  },
  {
   "cell_type": "markdown",
   "metadata": {
    "pycharm": {
     "name": "#%% md\n"
    }
   },
   "source": [
    "__f.__ [25 pts] Plot Tv and Ttr as a function of the distance behind the oblique shock for x = 0–50 cm. Compute numerically using dx = 1 cm.<p>\n",
    "    <blockquote> i.\tUse the Millikan and White correlation to determine τ(T$_\\text{tr}$).<br>\n",
    "        <blockquote>Pτ [atm-s] = exp[A(T$_\\text{tr}^{-1/3}$-0.015μ$^{1/4}$) - 18.42]<br>\n",
    "        where μ = 14<br>\n",
    "        A = 220<br>\n",
    "        θ$_\\text{V}$ = 3395 K</blockquote>\n",
    "    ii. Use energy conservation to account for the change in T$_\\text{tr}$ due to vibrational relaxation (similar to e.).<p>\n",
    "    iii. Assume constant velocity and pressure downstream of the oblique shock wave. Note that these assumptions break down for flows with significant density change.</blockquote>"
   ]
  },
  {
   "cell_type": "code",
   "execution_count": null,
   "metadata": {
    "pycharm": {
     "name": "#%%\n"
    }
   },
   "outputs": [],
   "source": []
  },
  {
   "cell_type": "markdown",
   "metadata": {
    "pycharm": {
     "name": "#%% md\n"
    }
   },
   "source": [
    "__Hints:__\n",
    "1.\tOblique shock wave equations (a.-c.): https://www.grc.nasa.gov/www/k-12/airplane/oblique.html\n",
    "2.\tYou can use any preferred computational method to solve for the shock angle. You do not need to provide an algebraic solution.\n",
    "3.\tYou can assume the ratio of specific heats (γ) for N$_2$ is 1.4 regardless of temperature (reasonably accurate for the temperatures of this problem) (c.).\n",
    "4.\tUse energy conservation to equate initial and final conditions (e. and f.ii.).\n",
    "<blockquote> a.\tE = Etr + Evib (electronic energy negligible)<br>\n",
    "b.\tEtr = 5/2 Nk$_\\text{B}$T$_\\text{tr}$ (3/2 trans. + 1/2 rot.)<br>\n",
    "c.\tYou could also use enthalpy (H = Etr + Evib + Nk$_\\text{B}$T) for energy conservation. For the purpose of this problem, please conserve energy (E = Etr + Evib) </blockquote>\n",
    "5.\tOver the specified 50 cm simulation, the plot from f. should converge to the value found in e.\n"
   ]
  },
  {
   "cell_type": "markdown",
   "metadata": {
    "pycharm": {
     "name": "#%% md\n"
    }
   },
   "source": [
    "__Deliverables Summary:__\n",
    "1.\t[25 pts] Numerical answers a.-e. (5 pts each).\n",
    "2.\t[25 pts] Plot of T$_\\text{tr}$ and T$_\\text{v}$ vs. downstream distance.\n",
    "3.\tInclude a printout of any code used to solve."
   ]
  },
  {
   "cell_type": "markdown",
   "metadata": {},
   "source": [
    "## 2. Expansion through a supersonic nozzle\n",
    "\n",
    "[50 pts] Consider the evolution of a choked flow through a nozzle (M = 1 at nozzle throat) consisting of carbon monoxide (CO) highly dilute in helium (He) (Fig. 2). The flow expands isentropically from stagnation conditions of Pt = 200 atm and Ttr,t = 3000 K (t denotes stagnation or “total”). The throat diameter is 1 cm, and nozzle expands radially with a half-angle of 5°. For context, these conditions are similar to some gas dynamic lasers.\n",
    "\n",
    "### Figure 2: Illustration of expansion through a diverging nozzle.\n",
    "<img src=\"../data/PSet_7_Fig2.JPG\" width=\"600\">\n",
    "\n",
    "### Compressible Flow:\n",
    "\n",
    "__a.__ [20 pts] Plot the following parameters, normalized by their values at the nozzle throat, as functions of distance downstream of the throat for x = 0-15 cm. For consistency with part c, compute the values with dx = 0.5 cm.\n",
    "\n",
    "1. M\n",
    "2. T$_\\text{tr}$ (note that this is <u>not</u> the stagnation value)\n",
    "3. P (again note that this is <u>not</u> the stagnation value)\n",
    "4. Gas Velocity"
   ]
  },
  {
   "cell_type": "code",
   "execution_count": null,
   "metadata": {},
   "outputs": [],
   "source": []
  },
  {
   "cell_type": "markdown",
   "metadata": {},
   "source": [
    "__b.__ [5 pts] At what distance does T$_\\text{tr}$ reach room temperature?"
   ]
  },
  {
   "cell_type": "code",
   "execution_count": null,
   "metadata": {},
   "outputs": [],
   "source": []
  },
  {
   "cell_type": "markdown",
   "metadata": {},
   "source": [
    "### Vibrational Relaxation\n",
    "\n",
    "__c.__ [20 pts] Plot T$_\\text{v}$ and T$_\\text{tr}$ as a function of the distance downstream of the throat for x = 0–15 cm. Compute numerically using dx = 0.5 cm.<p>\n",
    "    <blockquote> i.\tUse the Millikan and White correlation to determine τ(T$_\\text{tr}$).<br>\n",
    "        <blockquote>Pτ [atm-s] = exp[A(T$_\\text{tr}^{-1/3}$-0.015μ$^{1/4}$) - 18.42]<br>\n",
    "        where μ = 3.5<br>\n",
    "        A = 99<br>\n",
    "        θ$_\\text{V}$ = 3080 K</blockquote>\n",
    "    ii. Use energy conservation to account for the change in T$_\\text{tr}$ due to vibrational relaxation (similar to e.).<p>\n",
    "    iii. Assume constant velocity and pressure downstream of the oblique shock wave. Note that these assumptions break down for flows with significant density change.</blockquote>"
   ]
  },
  {
   "cell_type": "code",
   "execution_count": null,
   "metadata": {},
   "outputs": [],
   "source": []
  },
  {
   "cell_type": "markdown",
   "metadata": {},
   "source": [
    "__d.__ [5pts] What is the frozen vibrational temperature (T$_\\text{v}$) (i.e. T$_\\text{v}$ at 15 cm)?"
   ]
  },
  {
   "cell_type": "code",
   "execution_count": null,
   "metadata": {},
   "outputs": [],
   "source": []
  },
  {
   "cell_type": "markdown",
   "metadata": {},
   "source": [
    "__Hints:__\n",
    "1.\tIsentropic flow equations: https://www.grc.nasa.gov/www/k-12/airplane/isentrop.html \n",
    "2.\tYou can use any preferred computational method to solve for the Mach number as a function of distance. You do not need to provide an algebraic solution.\n",
    "3.\tYou can assume the ratio of specific heats (γ) for a CO/He mixture is 5/3 regardless of temperature (very accurate for the temperatures of this problem).\n",
    "4.\tAssume the velocity in the radial direction (r) is negligible.\n",
    "5.\tT$\\text{v}$ = T$_\\text{tr}$ at the nozzle throat (Not T$_\\text{tr,t}$).\n"
   ]
  },
  {
   "cell_type": "markdown",
   "metadata": {},
   "source": [
    "__Deliverables Summary:__\n",
    "1.\t[20 pts] Plots for normalized M, T$_\\text{tr}$, P, and V (5 pts each).\n",
    "2.\t[5 pts] Distance at which T$_\\text{tr}$ reaches room temperature.\n",
    "3.\t[20 pts] Plot of T$_\\text{tr}$ and T$_\\text{v}$ vs. downstream distance.\n",
    "4.\t[5 pts] Frozen vibrational temperature.\n",
    "5.\tInclude a printout of any code used to solve."
   ]
  }
 ],
 "metadata": {
  "kernelspec": {
   "display_name": "Python 3",
   "language": "python",
   "name": "python3"
  },
  "language_info": {
   "codemirror_mode": {
    "name": "ipython",
    "version": 3
   },
   "file_extension": ".py",
   "mimetype": "text/x-python",
   "name": "python",
   "nbconvert_exporter": "python",
   "pygments_lexer": "ipython3",
   "version": "3.8.3"
  }
 },
 "nbformat": 4,
 "nbformat_minor": 1
}
