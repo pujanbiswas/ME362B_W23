{
 "cells": [
  {
   "cell_type": "markdown",
   "metadata": {},
   "source": [
    "# Problem Set #5\n",
    "\n",
    "In problem set #5, you are asked to use Cantera to perform kinetic simulations and analysis.\n",
    "This notebook will be used as a template to pose questions and guide you through the process to reach solutions.\n",
    "\n",
    "This assignment directly apply material presented in the two Jupyter tutorials presenting in problem sessions 2 and 5.\n",
    "It is *highly* recommended that, if you haven't already, you watch the recordings and/or work through these tutorials\n",
    " before attempting this assignment.\n",
    "\n",
    "This assignment is intended to expose students to open-source tools and analysis methods for performing kinetic\n",
    " simulations, not to test student's programming ability.\n",
    "While we expect students to first reference the tutorials and documentation available to you, please do not hesitate to\n",
    " reach out to your fellow students (as with all problem sets, you are encouraged to work together but must complete and\n",
    " submit your own assignments) or your TA's.\n",
    "\n",
    "*Note:*\n",
    "Please make sure to refer to the directions at the end of Tutorial #1 regarding saving your work in the\n",
    " Jupyter/Binder environment. Please be sure to save your work to your local machine in the **.ipynb** format regularly.\n",
    "If contacting the TA's by email with questions, please attach your .ipynb file to help them assist you with\n",
    " troubleshooting\n",
    "\n",
    "**Submission:**\n",
    "When you complete the assignment, please *Print* the notebook (with all output displayed) in **PDF** format for\n",
    " submission on Gradescope.\n",
    "If you choose to complete the assignment in a different form than this notebook (allowed, but *not recommended*), you\n",
    " are responsible for determining what deliverables are being asked for in this template and making sure they are\n",
    " submitted in an appropriate format."
   ]
  },
  {
   "cell_type": "markdown",
   "metadata": {
    "pycharm": {
     "name": "#%% md\n"
    }
   },
   "source": [
    "**Import Statements:**\n",
    "Do not change anything in the following cell. Packages imported here should be the only required for completing this\n",
    " assignment."
   ]
  },
  {
   "cell_type": "code",
   "execution_count": null,
   "metadata": {
    "pycharm": {
     "name": "#%%\n"
    }
   },
   "outputs": [],
   "source": [
    "import cantera as ct\n",
    "import numpy as np\n",
    "import os\n",
    "import matplotlib.pyplot as plt"
   ]
  },
  {
   "cell_type": "markdown",
   "metadata": {
    "pycharm": {
     "name": "#%% md\n"
    }
   },
   "source": [
    "**Useful Functions from Problem Session #5/Tutorial #2:**\n",
    "\n",
    "The following functions that were developed in Tutorial #2 are provided for you here for your reference and use in this\n",
    " problem set.\n",
    "You may modify them should you so choose, or use them as they are.\n",
    "\n",
    "*Note:* The description of the function contained in triple quotes `\"\"\"...\"\"\"` directly following the function\n",
    " definition `def ....(...):` is called a \"docstring\".\n",
    "The docstring describes the function, its parameters, and its return values.\n",
    "Docstrings are the primary method by which functions are documented in the Python language.\n",
    "Within Jupyter, you can access this documentation by typing the function name followed by a `?` (see below)."
   ]
  },
  {
   "cell_type": "code",
   "execution_count": null,
   "metadata": {
    "pycharm": {
     "name": "#%%\n"
    }
   },
   "outputs": [],
   "source": [
    "# default parameters passed to functions:\n",
    "#   You can change these, then re-run this cell to change the defaults used by the functions\n",
    "T0 = 1200  # K\n",
    "P0 = 101325  # Pa (1 atm)\n",
    "phi0 = 1.\n",
    "fuel0 = {'H2':1.}\n",
    "oxidizer0 = {'AR':.79, 'O2':.21}  # \"airgon\"\n",
    "\n",
    "# user-defined functions to help set up and run simulations\n",
    "\n",
    "def setup_simulation(sln, T=T0, P=P0, phi=phi0, f=fuel0, ox=oxidizer0):\n",
    "    \"\"\"\n",
    "    Returns a constant-pressure reactor object and reactor network based upon a ct.Solution object and at optionally\n",
    "     specified starting conditions, or predefined defaults\n",
    "    :param sln: ct.Solution object specifying mechanism for given simulation\n",
    "    :param T: float, optional starting temperature (K)\n",
    "    :param P: float, optional starting pressure (Pa)\n",
    "    :param phi: float, optional equivalence ratio (-)\n",
    "    :param f: dict, optional dict specifying fuel composition\n",
    "    :param ox: dict, optional dict specifying oxidizer composition\n",
    "    :return tuple: (ct.ConstPressureReactor, ct.ReactorNet)\n",
    "    \"\"\"\n",
    "    sln.set_equivalence_ratio(phi=phi, fuel=f, oxidizer=ox)\n",
    "    sln.TP = T, P\n",
    "    r1 = ct.ConstPressureReactor(sln)\n",
    "    rnet = ct.ReactorNet([r1])\n",
    "    return r1, rnet\n",
    "\n",
    "\n",
    "def new_result_dict(sln: ct.Solution, species_list=None):\n",
    "    \"\"\"\n",
    "    Returns an empty result dictionary used for storing state variables during kinetic simulations\n",
    "    :param sln: ct.Solution object to be used in the simulation\n",
    "    :param species_list: list of species for which to record mole fractions; default None to record all species in\n",
    "     mechansim\n",
    "    :return dict: result dictionary with empty lists in fields for time, T, P, and all species, along with a list of\n",
    "     all included species and another of the species indices within the sln.X array\n",
    "    \"\"\"\n",
    "    # if the species list is None, make entries for all the species in the Solution object\n",
    "    if species_list is None:\n",
    "        species_list = sln.species_names\n",
    "    else:  # remove any species in the list not in the Solution to prevent errors\n",
    "        species_list_2, species_list = list(species_list), []  # store provided species_list as species_list_2, make a\n",
    "        #   new species list for storing valid species\n",
    "        for sp in species_list_2:\n",
    "            if sp in sln.species_names and sp not in species_list:\n",
    "                species_list += [sp]\n",
    "            elif sp not in sln.species_names:\n",
    "                print(f\"{sp} not in mechanism; removed from tracked species.\")\n",
    "\n",
    "    # start initializing the dictionary with basic properties - time, temperature (T), pressure (P)\n",
    "    result_dict = {'time':[],\n",
    "                   'T':[],\n",
    "                   'P':[]}\n",
    "    # now add entries for the species\n",
    "    for sp in species_list:\n",
    "        result_dict[sp] = []\n",
    "    # finally, add entries with a list of the species and their indices\n",
    "    result_dict['species'] = species_list\n",
    "    result_dict['indices'] = [sln.species_index(sp) for sp in species_list]\n",
    "\n",
    "    return result_dict\n",
    "\n",
    "\n",
    "def add_to_result(sln, network, res_dict):\n",
    "    \"\"\"\n",
    "    Adds the current simulation state to the results dictionary\n",
    "    :param sln: ct.Solution at current simulation state\n",
    "    :param network: ct.ReactorNet at current simulation state\n",
    "    :param res_dict: formatted results dictionary, as created by \"new_result_dict\" function\n",
    "    :return: None\n",
    "    \"\"\"\n",
    "    res_dict['time'] += [network.time]\n",
    "    res_dict['T'] += [sln.T]\n",
    "    res_dict['P'] += [sln.P]\n",
    "    for sp, x in zip(res_dict['species'], sln.X[res_dict['indices']]):\n",
    "        res_dict[sp] += [x]\n",
    "\n",
    "\n",
    "def plot_simulation_result(result_dict, logx=True, tmin=1e-6, tmax=None):\n",
    "    \"\"\"\n",
    "    plots the simulation results stored in a result dictionary\n",
    "    :param result_dict: formatted results dictionary, as created by \"new_result_dict\" and filled using \"add_to_result\"\n",
    "    :param logx: bool, True (default) to plot time as log scale, False to plot linear time scale\n",
    "    :param tmin: float, minimum time to plot (default 1e-6)\n",
    "    :param tmax: float, maximum time to plot (default None to plot until last simulation time)\n",
    "    :return: None\n",
    "    \"\"\"\n",
    "    ts = result_dict['time']\n",
    "    if tmax is None:\n",
    "        tmax = ts[-1]\n",
    "\n",
    "    # plot temperature vs. time\n",
    "    plt.figure(figsize=(8, 4))\n",
    "    if logx:\n",
    "        plt.semilogx(ts, result_dict['T'])\n",
    "    else:\n",
    "        plt.plot(ts, result_dict['T'])\n",
    "    plt.xlabel('Time (s)')\n",
    "    plt.ylabel('Temperature (K)')\n",
    "    plt.xlim((tmin, tmax))\n",
    "\n",
    "    # plot mole fractions vs. time\n",
    "    plt.figure(figsize=(8, 6))\n",
    "    for sp in result_dict['species']:\n",
    "        if logx:\n",
    "            plt.loglog(ts, result_dict[sp], label=sp)\n",
    "        else:\n",
    "            plt.semilogy(ts, result_dict[sp], label=sp)\n",
    "    plt.legend()\n",
    "    plt.xlabel('Time (s)')\n",
    "    plt.ylabel('Mole Fractions (-)')\n",
    "    plt.ylim((1e-6, 1))\n",
    "    plt.xlim((tmin, tmax))\n",
    "\n",
    "\n",
    "def idt_x_max(result_dict, x_key, save_to_dict=True, print_out=False):\n",
    "    \"\"\"\n",
    "    Calculates the ignition delay time based on the maximum value of a tracked variable.\n",
    "    Recommended for use on transient radical species\n",
    "    :param result_dict: formatted results dictionary, as created by \"new_result_dict\" and filled using \"add_to_result\"\n",
    "    :param x_key: str, dictionary key of tracked variable by which to define IDT\n",
    "    :param save_to_dict: bool, default True to add calculated IDT to result_dict\n",
    "    :param print_out: bool, True to print calculated IDT, default False to suppress output\n",
    "    :return: None if save_to_dict, else float calculated IDT\n",
    "    \"\"\"\n",
    "    x = result_dict[x_key]\n",
    "\n",
    "    ix_max = np.argmax(x)  # flips the sign of dx_dt if keyword arg \"sign\" is negative\n",
    "    t_ign_x = result_dict['time'][ix_max]\n",
    "\n",
    "    if print_out:\n",
    "        print(f'IDT_{x_key+\"_max\":10s} = {t_ign_x*1e6:4.1f} us')\n",
    "\n",
    "    if save_to_dict:\n",
    "        idt_dict = result_dict.get('idt', {})\n",
    "        idt_dict[x_key] = t_ign_x\n",
    "        result_dict['idt'] = idt_dict\n",
    "    else:\n",
    "        return t_ign_x\n",
    "\n",
    "\n",
    "def idt_dx_dt(result_dict, x_key, sign=1, save_to_dict=True, print_out=False):\n",
    "    \"\"\"\n",
    "    Calculates the ignition delay time based on the maximum rate of change of a tracked variable.\n",
    "    Recommended for use on temperature, fuel, oxygen, or major products\n",
    "    :param result_dict: formatted results dictionary, as created by \"new_result_dict\" and filled using \"add_to_result\"\n",
    "    :param x_key: str, dictionary key of tracked variable by which to define IDT\n",
    "    :param sign: numeric, positive (e.g. 1, default) to detect rising edge, negative (e.g. -1) to detect falling edge\n",
    "    :param save_to_dict: bool, default True to add calculated IDT to result_dict\n",
    "    :param print_out: bool, True to print calculated IDT, default False to suppress output\n",
    "    :return: None if save_to_dict, else float calculated IDT\n",
    "    \"\"\"\n",
    "    dx = np.diff(result_dict[x_key])\n",
    "    dt = np.diff(result_dict['time'])\n",
    "\n",
    "    dx_dt = dx / dt\n",
    "    t_mean = np.array(result_dict['time'][:-1]) + (dt / 2)\n",
    "\n",
    "    idx_max = np.argmax(np.sign(sign) * dx_dt)  # flips the sign of dx_dt if keyword arg \"sign\" is negative\n",
    "    t_ign_dx = t_mean[idx_max]\n",
    "\n",
    "    if print_out:\n",
    "        print(f'IDT_d{x_key+\"/dt\":9s} = {t_ign_dx*1e6:4.1f} us')\n",
    "\n",
    "    if save_to_dict:\n",
    "        idt_dict = result_dict.get('idt', {})\n",
    "        idt_dict[x_key] = t_ign_dx\n",
    "        result_dict['idt'] = idt_dict\n",
    "    else:\n",
    "        return t_ign_dx\n",
    "\n",
    "\n",
    "def calculate_idt(result_dict):\n",
    "    \"\"\"\n",
    "    Calculates the IDT using numerous methods and adds them to result_dict\n",
    "    :param result_dict: formatted results dictionary, as created by \"new_result_dict\" and filled using \"add_to_result\"\n",
    "    :return: None\n",
    "    \"\"\"\n",
    "    idt_dx_dt(result_dict, 'T')\n",
    "    idt_x_max(result_dict, 'H')\n",
    "    idt_dx_dt(result_dict, 'H2', sign=-1)\n",
    "    idt_dx_dt(result_dict, 'H2O')\n",
    "\n",
    "\n",
    "def run_simulation(sln, T=T0, P=P0, phi=phi0, f=fuel0, ox=oxidizer0, species_of_interest=None, t_stop=1e-3):\n",
    "    \"\"\"\n",
    "    Performs kinetic simulation at specified conditions and returns the full results dictionary\n",
    "    :param sln: ct.Solution object specifying mechanism for given simulation\n",
    "    :param T: float, optional starting temperature (K)\n",
    "    :param P: float, optional starting pressure (Pa)\n",
    "    :param phi: float, optional equivalence ratio (-)\n",
    "    :param f: dict, optional dict specifying fuel composition\n",
    "    :param ox: dict, optional dict specifying oxidizer composition\n",
    "    :param species_of_interest: list of species to track in simulations, default None to track all species\n",
    "    :param t_stop: float, maximum time to which to run the simulation\n",
    "    :return: dict of IDTs calculated with various metrics\n",
    "    \"\"\"\n",
    "    # setup the reactor, result objects\n",
    "    r1, rnet = setup_simulation(sln, T=T, P=P, phi=phi, f=f, ox=ox)\n",
    "    result_dict = new_result_dict(sln, species_list=species_of_interest)\n",
    "\n",
    "    # run the simulation\n",
    "    while rnet.time < t_stop:\n",
    "        rnet.step()\n",
    "        add_to_result(sln, rnet, result_dict)\n",
    "\n",
    "    return result_dict\n",
    "\n",
    "\n",
    "def simulate_idt(sln, T=T0, P=P0, phi=phi0, f=fuel0, ox=oxidizer0, species_of_interest=None, t_stop=1e-3):\n",
    "    \"\"\"\n",
    "    Performs kinetic simulation at specified conditions and returns a dictionary of ignition delay times\n",
    "    :param sln: ct.Solution object specifying mechanism for given simulation\n",
    "    :param T: float, optional starting temperature (K)\n",
    "    :param P: float, optional starting pressure (Pa)\n",
    "    :param phi: float, optional equivalence ratio (-)\n",
    "    :param f: dict, optional dict specifying fuel composition\n",
    "    :param ox: dict, optional dict specifying oxidizer composition\n",
    "    :param species_of_interest: list of species to track in simulations, default None to track all species\n",
    "    :param t_stop: float, maximum time to which to run the simulation\n",
    "    :return: dict of IDTs calculated with various metrics\n",
    "    \"\"\"\n",
    "    result_dict = run_simulation(sln, T=T, P=P, phi=phi, f=f, ox=ox,\n",
    "                                 species_of_interest=['H', 'H2O', 'H2'], t_stop=t_stop)\n",
    "    calculate_idt(result_dict)\n",
    "\n",
    "    return result_dict['idt']\n",
    "\n",
    "\n",
    "def calculate_sensitivities(sln, T=T0, P=P0, phi=phi0, f=fuel0, ox=oxidizer0, t_stop=1e-3,\n",
    "                            plot_result=True, n_sens_max=10, title=None, IDT_def='T'):\n",
    "    \"\"\"\n",
    "    Performs brute-force sensitivity at specified conditions, with option to plot result\n",
    "    :param sln: ct.Solution object specifying mechanism for given simulation\n",
    "    :param T: float, optional starting temperature (K)\n",
    "    :param P: float, optional starting pressure (Pa)\n",
    "    :param phi: float, optional equivalence ratio (-)\n",
    "    :param f: dict, optional dict specifying fuel composition\n",
    "    :param ox: dict, optional dict specifying oxidizer composition\n",
    "    :param t_stop: float, maximum time to which to run the simulation\n",
    "    :param plot_result: bool, default True to plot sensitivities, False to suppress plotting\n",
    "    :param n_sens_max: int, number of most sensitive reactions to include in plot, default 10\n",
    "    :param title: str, plot title; default None for no title\n",
    "    :param IDT_def: str, definition of IDT to use for calculating sensitivity; must be among those included in\n",
    "     \"calculate_idt\" function (default 'T')\n",
    "    :return: np.array, sensitivity of IDT to each reaction in mechanism defining sln\n",
    "    \"\"\"\n",
    "    # calculate the base result\n",
    "    sln.set_multiplier(1.)  # this makes sure all the multipliers are set to 1.\n",
    "    IDT_base = simulate_idt(sln, T=T, P=P, phi=phi, f=f, ox=ox, t_stop=t_stop)[IDT_def]\n",
    "\n",
    "    # perturb the mechanism and calculate the new IDT\n",
    "    f_k = 0.05\n",
    "    IDT_sens = np.zeros(sln.n_reactions, dtype=float)\n",
    "\n",
    "    for i in range(sln.n_reactions):\n",
    "        sln.set_multiplier(1)\n",
    "        sln.set_multiplier((1+f_k), i)\n",
    "        IDT_sens[i] = simulate_idt(sln, T=T, P=P, phi=phi, f=f, ox=ox, t_stop=IDT_base*3)[IDT_def]\n",
    "\n",
    "    # calculate the IDT sensitivity\n",
    "    dIDT_IDT = (IDT_sens - IDT_base) / IDT_base\n",
    "    sensitivities = dIDT_IDT / f_k\n",
    "\n",
    "    if plot_result:\n",
    "        i_abs_sort = np.argsort(np.abs(sensitivities))[::-1]  # flip the order to sort from high to low\n",
    "        n_max_sens = sensitivities[i_abs_sort[:n_sens_max]]\n",
    "        numbered_eqns = [f'{eqn} (r{i})' for i, eqn in enumerate(sln.reaction_equations())]\n",
    "        n_max_eqns = np.array(numbered_eqns)[i_abs_sort[:n_sens_max]]\n",
    "\n",
    "        i_sort_nmax = np.argsort(n_max_sens)[::-1]\n",
    "        n_sort_sens = n_max_sens[i_sort_nmax]\n",
    "        n_sort_eqns = n_max_eqns[i_sort_nmax]\n",
    "\n",
    "        plt.figure(figsize=(8, n_sens_max/2))\n",
    "        plt.barh(range(len(n_sort_sens)), n_sort_sens)\n",
    "        plt.yticks(range(len(n_sort_sens)), n_sort_eqns)\n",
    "        plt.xlabel('IDT Sensitivity')\n",
    "        plt.axvline(0, ls=':', c='k')\n",
    "\n",
    "        if title is not None:\n",
    "            plt.title(title)\n",
    "\n",
    "    return sensitivities"
   ]
  },
  {
   "cell_type": "markdown",
   "metadata": {
    "pycharm": {
     "name": "#%% md\n"
    }
   },
   "source": [
    "# Motivation\n",
    "\n",
    "Methane ($CH_4$) is both the simplest hydrocarbon fuel and one of incredible importance, owing to its prevalance in\n",
    " cheap and plentiful natual gas.\n",
    "The low cost of natural gas has inspired significant interest in the use of methane as a rocket fuel, as an\n",
    " alternative to the more commonly used (but expensive) liquid hydrogen ($LH_2$) and RP-1 kerosene rocket propellant.\n",
    "The SpaceX Raptor, Blue Origin BE-4, and European Space Agency Prometheus are some recent examples of methane-fired\n",
    " rocket engines.\n",
    "\n",
    "The design of rocket engines requires knowledge of combustion characteristics over a wide range of operating conditions.\n",
    "Since it is infeasible to perform experimental measurements at every condition of interest, kinetic mechanisms are\n",
    " instead used to predict the necessary characteristics.\n",
    "\n",
    "However, even for the relatively simple case of $CH_4$ combustion, uncertainty in kinetic mechanisms persists.\n",
    "In this problem set, you will be asked to perform simulations and analysis of methane combustion using different\n",
    " reaction mechanism, comparing and commenting on the results as you go."
   ]
  },
  {
   "cell_type": "markdown",
   "metadata": {
    "pycharm": {
     "name": "#%% md\n"
    }
   },
   "source": [
    "The following cell initializes a dictionary containing the paths to the three mechanisms you will use.\n",
    "It then loops over that dictionary, initializing a `ct.Solution` object from each mechanism and storing it in\n",
    " `gas_list`.\n",
    "You will be able to use the objects stored in `gas_list` throughout this assignment."
   ]
  },
  {
   "cell_type": "code",
   "execution_count": null,
   "metadata": {
    "pycharm": {
     "name": "#%%\n"
    }
   },
   "outputs": [],
   "source": [
    "'''No change needed in this cell'''\n",
    "\n",
    "mech_files = {#'Stanford':os.path.abspath('../mechanisms/stanford-mech_v12.cti'),\n",
    "              'FFCM-1':os.path.abspath('../mechanisms/FFCM1.cti'),\n",
    "              'GRI 3.0':'gri30.cti',\n",
    "              'USC Mech-II':os.path.abspath('../mechanisms/USC_MechII.cti')}\n",
    "\n",
    "mech_list = list(mech_files.keys())\n",
    "gas_list = []\n",
    "\n",
    "for mech in mech_list:\n",
    "    gas = ct.Solution(mech_files[mech])\n",
    "    print(f'{mech + \":\":12s}\\t{gas.n_species:3.0f} Species\\t{gas.n_reactions} Reactions')\n",
    "    gas_list += [gas]\n",
    "\n",
    "print()\n",
    "print(mech_list)\n",
    "print(gas_list)"
   ]
  },
  {
   "cell_type": "markdown",
   "metadata": {
    "pycharm": {
     "name": "#%% md\n"
    }
   },
   "source": [
    "You can see that the mechanisms very a great deal in complexity, with USC Mech-II having nearly three times as many\n",
    " species and reactions as FFCM-1."
   ]
  },
  {
   "cell_type": "markdown",
   "metadata": {
    "pycharm": {
     "name": "#%% md\n"
    }
   },
   "source": [
    "# 1. First Simulations & Computational Time\n",
    "\n",
    "Consider the combustion of stoichiometric ($\\phi = 1$) methane ($CH_4$) and pure oxygen ($O_2$), as may take place\n",
    " within a rocket engine.\n",
    "In this question, you are asked to:\n",
    "\n",
    "a. Use the `%%timeit` cell magic to measure how long it takes to run a simulation with each of the three mechanisms.\n",
    "\n",
    "b. Comment on the relative computational times.\n",
    "\n",
    "c. Display the ignition delay times calculated using the different mechanisms\n",
    "\n",
    "d. Comment on the simularity and/or differences\n",
    "\n",
    "__Perform your simulations at T = 1200 K and pressure P = 100 atm.__\n",
    "\n",
    "*Hints:*\n",
    "* You may find the `simulate_idt` function useful for this question.\n",
    "* The `%%timeit` command must be the first line of code in a cell to work properly (including before any comments)"
   ]
  },
  {
   "cell_type": "code",
   "execution_count": null,
   "metadata": {
    "pycharm": {
     "name": "#%%\n"
    }
   },
   "outputs": [],
   "source": [
    "'''No change needed in this cell: specified simulation conditions'''\n",
    "T = 1200\n",
    "P = 100 * 101325\n",
    "phi = 1\n",
    "fuel = {'CH4':1}\n",
    "oxidizer = {'O2':1}\n",
    "t_stop = 5e-3"
   ]
  },
  {
   "cell_type": "markdown",
   "metadata": {
    "pycharm": {
     "name": "#%% md\n"
    }
   },
   "source": [
    "__1 a) Fill in the following cells to measure how long it takes for an ignition simulation to run.__"
   ]
  },
  {
   "cell_type": "code",
   "execution_count": null,
   "metadata": {
    "pycharm": {
     "name": "#%%\n"
    }
   },
   "outputs": [],
   "source": [
    "%%timeit\n",
    "\n",
    "'''Insert code here to simulate and calculate the IDT using the first reaction mechanism'''"
   ]
  },
  {
   "cell_type": "code",
   "execution_count": null,
   "metadata": {
    "pycharm": {
     "name": "#%%\n"
    }
   },
   "outputs": [],
   "source": [
    "%%timeit\n",
    "\n",
    "'''Fill in this cell to time the IDT calculation using the second reaction mechanism'''"
   ]
  },
  {
   "cell_type": "code",
   "execution_count": null,
   "metadata": {
    "pycharm": {
     "name": "#%%\n"
    }
   },
   "outputs": [],
   "source": [
    "%%timeit\n",
    "\n",
    "'''Fill in this cell to time the IDT calculation using the third and final reaction mechanism'''"
   ]
  },
  {
   "cell_type": "markdown",
   "metadata": {
    "pycharm": {
     "name": "#%% md\n"
    }
   },
   "source": [
    "__1 b) In the cell below, comment on why different mechanisms might take different amounts of time to run.__\n",
    "\n",
    "__What might be lost when using a mechanism that solves more quickly?__\n",
    "\n",
    "__Can you think of any advantage of using a \"faster\" mechanism?__"
   ]
  },
  {
   "cell_type": "markdown",
   "metadata": {
    "pycharm": {
     "name": "#%% md\n"
    }
   },
   "source": [
    "_Type response to 1b. here:_\n",
    "\n"
   ]
  },
  {
   "cell_type": "markdown",
   "metadata": {
    "pycharm": {
     "name": "#%% md\n"
    }
   },
   "source": [
    "__1 c) In the cell below, write code to print the ignition delay time, based on the maximum rate of rise in temperature,\n",
    " using each of the three mechanisms.__\n",
    "\n",
    "You may use results calculated above, or rerun the simulations.\n",
    "Make sure to also print the name of the mechanism with its corresponding IDT.\n",
    "Feel free to insert more code cells as you feel is necessary."
   ]
  },
  {
   "cell_type": "code",
   "execution_count": null,
   "metadata": {
    "pycharm": {
     "name": "#%%\n"
    }
   },
   "outputs": [],
   "source": [
    "'''Type your code to print out the ignition delay time for each mechanism here'''"
   ]
  },
  {
   "cell_type": "markdown",
   "metadata": {
    "pycharm": {
     "name": "#%% md\n"
    }
   },
   "source": [
    "__1 d) Do the IDTs calculated with the different mechanisms agree?__\n",
    "\n",
    "__Are you surprised by this result?__"
   ]
  },
  {
   "cell_type": "markdown",
   "metadata": {
    "pycharm": {
     "name": "#%% md\n"
    }
   },
   "source": [
    "_Type response to 1d. here:_\n",
    "\n"
   ]
  },
  {
   "cell_type": "markdown",
   "metadata": {},
   "source": [
    "# 2. IDT vs. Temperature\n",
    "\n",
    "Now that we've gotten our feet wet, let's look at how the IDT predicted by each mechanism varies with temperature.\n",
    "\n",
    "In this question, you will be asked to:\n",
    "\n",
    "a. Calculate the ignition delay time over a range of temperatures using each mechanism and plot the results on an\n",
    " Arrhenius diagram ($\\log(\\tau)$ vs. $1/T$)\n",
    "\n",
    "b. Calculate an effective activation energy for the ignition delay time calculated with each mechanism\n",
    "\n",
    "For this problem, use the same conditions as problem 1, with a temperature range 1000 <= T <= 1500."
   ]
  },
  {
   "cell_type": "code",
   "execution_count": null,
   "metadata": {
    "pycharm": {
     "name": "#%%\n"
    }
   },
   "outputs": [],
   "source": [
    "'''No change needed in this cell: array of temperatures at which to calculate IDT'''\n",
    "Ts_idt = np.arange(1000, 1501, 50)"
   ]
  },
  {
   "cell_type": "markdown",
   "metadata": {
    "pycharm": {
     "name": "#%% md\n"
    }
   },
   "source": [
    "__2 a) In the cell(s) below, calculate the IDT at each of the temperatures in the `Ts_idt` array.__\n",
    "Make sure to specify `t_stop` long enough for ignition to occur in your simulation.\n",
    "\n",
    "__Generate an Arrhenius plot with the calculated IDTs using all three mechansims.__\n",
    "Be sure to provide appropriate axes labels (`xlabel`, `ylabel`) and a `legend` with your plot."
   ]
  },
  {
   "cell_type": "code",
   "execution_count": null,
   "metadata": {
    "pycharm": {
     "name": "#%%\n"
    }
   },
   "outputs": [],
   "source": [
    "'''Type your code to calculate IDTs and plot an Arrhenius diagram here (and in additional cells as needed)'''\n",
    "\n",
    "\n",
    "\n",
    "\n",
    "'''move the following three lines of code after your code to create the Arrhenius plot to add a secondary\n",
    " temperature axis to the top of your plot (to make reading it easier)'''\n",
    "secx = plt.gca().secondary_xaxis('top', functions=(lambda x: 1 / x, lambda x: 1 / x))\n",
    "secx.set_xticks([1500, 1400, 1300, 1200, 1100, 1000])\n",
    "secx.set_xlabel('Temperature, T (K)');"
   ]
  },
  {
   "cell_type": "markdown",
   "metadata": {},
   "source": [
    "__2 b) Calculate and print the effective Arrhenius activation energy $E_\\mathrm{A,eff}$ for the IDT of each mechanism.__\n",
    "\n",
    "__Comment on the values you find, particularly with respect to how they might compare between mechanisms and how they\n",
    " relate to activation energies you have seen for elementary reactions so far in this course.__\n",
    "\n",
    "In deriving an appropriate expression for calculating $E_\\mathrm{A,eff}$, assume $\\tau_\\mathrm{ign}$ might be reasonably\n",
    " expressed as:\n",
    "\n",
    "$$\\tau_\\mathrm{ign} = A\\exp\\left(\\frac{E_\\mathrm{A,eff}}{RT}\\right)$$\n",
    "\n",
    "_Hint:_ You might find the numpy `polyfit` function helpful"
   ]
  },
  {
   "cell_type": "code",
   "execution_count": null,
   "metadata": {
    "pycharm": {
     "name": "#%%\n"
    }
   },
   "outputs": [],
   "source": [
    "R = 1.987e-3  # kcal/mol-K\n",
    "\n",
    "'''Type your code to calculate and print the activation energies here'''"
   ]
  },
  {
   "cell_type": "markdown",
   "metadata": {
    "pycharm": {
     "name": "#%% md\n"
    }
   },
   "source": [
    "_Type response to 2b. here (i.e. comments on activation energies):_\n",
    "\n",
    "\n"
   ]
  },
  {
   "cell_type": "markdown",
   "metadata": {
    "pycharm": {
     "name": "#%% md\n"
    }
   },
   "source": [
    "# 3. Sensitivity Analysis\n",
    "\n",
    "In this question, we will get a sense for just how similar or different the reaction mechanisms are using sensitivity\n",
    " analysis."
   ]
  },
  {
   "cell_type": "markdown",
   "metadata": {
    "pycharm": {
     "name": "#%% md\n"
    }
   },
   "source": [
    "__3 a) Run brute-force IDT sensitivity analysis on the first two mechanisms only. Plot the sensitivities for the 10\n",
    " most sensitive reactions.__\n",
    "\n",
    "__Note:__ The sensitivity analysis for the first two mechanisms should take ~1 minute each to run.\n",
    "For USC Mech-II, the full sensitivity analysis takes about 20 minutes, which is a long time to sit and wait, so you\n",
    " are instead given a pre-computed plot of its results, which is loaded and displayed using provided code.\n",
    "\n",
    "_Hint:_ You will find the `calculate_sensitivities` function helpful for this part."
   ]
  },
  {
   "cell_type": "code",
   "execution_count": null,
   "metadata": {
    "pycharm": {
     "name": "#%%\n"
    }
   },
   "outputs": [],
   "source": [
    "'''Type your code in this cell (and additional cells as needed) to calculate and plot sensitivities\n",
    " for the first two reaction mechanisms'''\n",
    "\n"
   ]
  },
  {
   "cell_type": "code",
   "execution_count": null,
   "outputs": [],
   "source": [
    "'''Do not change code in this cell; displays pre-calculated USC Mech-II sensitivity results'''\n",
    "\n",
    "plt.figure(figsize=(10, 8))\n",
    "plt.imshow(plt.imread(os.path.abspath('../data/USCMechII_sensitivity_1200K_100atm.png')))\n",
    "plt.axis('off');"
   ],
   "metadata": {
    "collapsed": false,
    "pycharm": {
     "name": "#%%\n"
    }
   }
  },
  {
   "cell_type": "markdown",
   "source": [
    "__3 b) Comment on the sensitivity results.\n",
    " Are there reactions the IDT is highly sensitive to across all the different mechanisms?\n",
    " Are there any reactions that the IDT is only sensitive to in one/some mechanisms but not others?\n",
    " Based on these results, do you think there are any important reaction pathways included in one/some mechanisms\n",
    "  but not others?__"
   ],
   "metadata": {
    "collapsed": false
   }
  },
  {
   "cell_type": "markdown",
   "source": [
    "_Type response to 3b. here_\n",
    "\n",
    "\n"
   ],
   "metadata": {
    "collapsed": false
   }
  },
  {
   "cell_type": "markdown",
   "source": [
    "__3 c) Now consider the most-sensitive reaction in each the positive and negative directions\n",
    " (they should be the same two reactions for all 3 mechanisms).__\n",
    "* How would each of these reactions be classified (e.g. initiation, propagation, chain branching, termination)?\n",
    "* What species is in common between these reactions?\n",
    "* Why do you think these reactions might be the most positively and negatively sensitive?"
   ],
   "metadata": {
    "collapsed": false,
    "pycharm": {
     "name": "#%% md\n"
    }
   }
  },
  {
   "cell_type": "markdown",
   "source": [
    "_Type response to 3c. here_\n",
    "\n",
    "\n"
   ],
   "metadata": {
    "collapsed": false,
    "pycharm": {
     "name": "#%% md\n"
    }
   }
  },
  {
   "cell_type": "markdown",
   "source": [
    "__3 d) Now, run brute-force IDT sensitivity analysis on the FFCM-1 mechanisms at the following conditions:__\n",
    "* T = 1800 K\n",
    "* phi = 1\n",
    "* oxidizer = 21% O2, 79% N2\n",
    "* pressures of 100 atm and 0.1 atm\n",
    "\n",
    "__After generating your plots, comment on the difference in the sensitivity results between the two pressures.\n",
    " Why might IDT be more sensitive to some classes of reaction at high pressure than at low pressure?__"
   ],
   "metadata": {
    "collapsed": false,
    "pycharm": {
     "name": "#%% md\n"
    }
   }
  },
  {
   "cell_type": "code",
   "execution_count": null,
   "metadata": {
    "pycharm": {
     "name": "#%%\n"
    }
   },
   "outputs": [],
   "source": [
    "'''Type your code to calculate and plot sensitivities for pressures of 100 atm and 0.1 atm'''\n",
    "\n",
    "\n"
   ]
  },
  {
   "cell_type": "markdown",
   "source": [
    "_Type comments for 3d. here regarding the sensistivies at different pressures_\n",
    "\n",
    "\n"
   ],
   "metadata": {
    "collapsed": false,
    "pycharm": {
     "name": "#%% md\n"
    }
   }
  },
  {
   "cell_type": "markdown",
   "source": [
    "__3 e) Concept Check: How does increasing the (forward) rate multiplier of a reversible reaction affect the reverse\n",
    " reaction rate? Why?__"
   ],
   "metadata": {
    "collapsed": false,
    "pycharm": {
     "name": "#%% md\n"
    }
   }
  },
  {
   "cell_type": "markdown",
   "source": [
    "_Type your answer for 3e. here_\n",
    "\n"
   ],
   "metadata": {
    "collapsed": false,
    "pycharm": {
     "name": "#%% md\n"
    }
   }
  },
  {
   "cell_type": "markdown",
   "source": [
    "# 4) Species-Time Histories\n",
    "\n",
    "While IDT provides an important global performance target by which mechanisms can be evaluated, measurements of how\n",
    " individual species concentrations evolve through time can provide significant insight into the internal workings of a\n",
    " reactive system.\n",
    "In this question, you are asked to compare the concentrations of chemical species during an ignition process.\n",
    "You are subsequently asked to select which species you think a measurement of would most contribute to identifying\n",
    " which mechanism is the most correct at this condition."
   ],
   "metadata": {
    "collapsed": false,
    "pycharm": {
     "name": "#%% md\n"
    }
   }
  },
  {
   "cell_type": "markdown",
   "source": [
    "__4 a) Simulate the ignition of a rich mixture of methane and air using each of the 3 mechanisms at the\n",
    " following conditions:__\n",
    "* T = 1400 K\n",
    "* P = 10 atm\n",
    "* phi = 2\n",
    "\n",
    "__Save your complete simulation results (not just the IDTs), as they will be used in later parts.__\n",
    "\n",
    "_Hint:_ Remember the `run_simulation` function"
   ],
   "metadata": {
    "collapsed": false,
    "pycharm": {
     "name": "#%% md\n"
    }
   }
  },
  {
   "cell_type": "code",
   "execution_count": null,
   "outputs": [],
   "source": [
    "'''type your code to run the ignition simulations in this cell and additional cells as needed'''\n",
    "\n",
    "\n"
   ],
   "metadata": {
    "collapsed": false,
    "pycharm": {
     "name": "#%%\n"
    }
   }
  },
  {
   "cell_type": "markdown",
   "source": [
    "__4 b) Imagine the following lists of species are measurable with laser diagnostics to the specified detection limits:__\n",
    "\n",
    "Stable species (100 ppm detection limit):\n",
    "* CH4\n",
    "* H2O\n",
    "* CO2\n",
    "* C2H6\n",
    "* C2H4\n",
    "* C2H2\n",
    "\n",
    "Radical species (1 ppm detection limit):\n",
    "* OH\n",
    "* CH\n",
    "* CH3\n",
    "* HO2\n",
    "\n",
    "__For each species, make a plot comparing the mole fraction vs. time as predicted by each of the mechanisms.__\n",
    "\n",
    "_Notes:_\n",
    "* Make sure plots are appropriately labeled, at minimum, with the name of the species being plotted and a legend\n",
    " matching lines to mechanisms.\n",
    "* Plot mole fractions on a loglog scale\n",
    "  * The minimum of the mole-fraction axis should be the detection limit\n",
    "  * The minimum of the time axis should correspond to a maximum measurement rate of 100 kHz (i.e. 1e-5 seconds)"
   ],
   "metadata": {
    "collapsed": false,
    "pycharm": {
     "name": "#%% md\n"
    }
   }
  },
  {
   "cell_type": "code",
   "execution_count": null,
   "outputs": [],
   "source": [
    "measurable_stables = ['CH4', 'H2O', 'CO2', 'CH2O', 'C2H6', 'C2H4', 'C2H2']\n",
    "measurable_radicals = ['OH', 'CH', 'CH3', 'HO2']\n",
    "\n",
    "'''Type code for plotting species comparisons here'''\n",
    "\n",
    "\n"
   ],
   "metadata": {
    "collapsed": false,
    "pycharm": {
     "name": "#%%\n"
    }
   }
  },
  {
   "cell_type": "markdown",
   "source": [
    "__4 c) Based on your species-vs-time plots, which species would you measure if you were tasked with identifying\n",
    " which reaction mechanism was \"most correct\" at these conditions? Why?__"
   ],
   "metadata": {
    "collapsed": false,
    "pycharm": {
     "name": "#%% md\n"
    }
   }
  },
  {
   "cell_type": "markdown",
   "source": [
    "_Type your answer to 4c. here_\n",
    "\n",
    "\n"
   ],
   "metadata": {
    "collapsed": false,
    "pycharm": {
     "name": "#%% md\n"
    }
   }
  },
  {
   "cell_type": "markdown",
   "source": [
    "# $\\mathcal{The\\ \\ End}$\n"
   ],
   "metadata": {
    "collapsed": false,
    "pycharm": {
     "name": "#%% md\n"
    }
   }
  }
 ],
 "metadata": {
  "kernelspec": {
   "display_name": "me362b",
   "language": "python",
   "name": "me362b"
  },
  "language_info": {
   "codemirror_mode": {
    "name": "ipython",
    "version": 3
   },
   "file_extension": ".py",
   "mimetype": "text/x-python",
   "name": "python",
   "nbconvert_exporter": "python",
   "pygments_lexer": "ipython3",
   "version": "3.7.9"
  }
 },
 "nbformat": 4,
 "nbformat_minor": 1
}
